{
 "cells": [
  {
   "cell_type": "code",
   "execution_count": 1,
   "id": "46fcdf25-b16a-41c9-8771-f4ae76d12857",
   "metadata": {},
   "outputs": [
    {
     "name": "stdout",
     "output_type": "stream",
     "text": [
      "hello hands-on ml world!\n"
     ]
    }
   ],
   "source": [
    "print('hello hands-on ml world!')"
   ]
  },
  {
   "cell_type": "code",
   "execution_count": null,
   "id": "27051a31-d43b-4b97-ae09-567deb531ac1",
   "metadata": {},
   "outputs": [],
   "source": []
  }
 ],
 "metadata": {
  "kernelspec": {
   "display_name": "Python 3 (ipykernel)",
   "language": "python",
   "name": "python3"
  },
  "language_info": {
   "codemirror_mode": {
    "name": "ipython",
    "version": 3
   },
   "file_extension": ".py",
   "mimetype": "text/x-python",
   "name": "python",
   "nbconvert_exporter": "python",
   "pygments_lexer": "ipython3",
   "version": "3.11.3"
  }
 },
 "nbformat": 4,
 "nbformat_minor": 5
}
